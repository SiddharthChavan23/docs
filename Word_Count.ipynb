{
  "nbformat": 4,
  "nbformat_minor": 0,
  "metadata": {
    "colab": {
      "provenance": [],
      "authorship_tag": "ABX9TyMq/ng89TzURiZThKAle4D6",
      "include_colab_link": true
    },
    "kernelspec": {
      "name": "python3",
      "display_name": "Python 3"
    },
    "language_info": {
      "name": "python"
    }
  },
  "cells": [
    {
      "cell_type": "markdown",
      "metadata": {
        "id": "view-in-github",
        "colab_type": "text"
      },
      "source": [
        "<a href=\"https://colab.research.google.com/github/SiddharthChavan23/docs/blob/main/Word_Count.ipynb\" target=\"_parent\"><img src=\"https://colab.research.google.com/assets/colab-badge.svg\" alt=\"Open In Colab\"/></a>"
      ]
    },
    {
      "cell_type": "code",
      "execution_count": 6,
      "metadata": {
        "colab": {
          "base_uri": "https://localhost:8080/"
        },
        "id": "yZuXxEgynhHM",
        "outputId": "bf632911-7307-4cf7-a10b-e1130a3455c9"
      },
      "outputs": [
        {
          "output_type": "stream",
          "name": "stdout",
          "text": [
            "Shivam Vadalia des"
          ]
        }
      ],
      "source": [
        "!cat /content/word_count.txt"
      ]
    },
    {
      "cell_type": "code",
      "source": [
        "!nano mapper.py"
      ],
      "metadata": {
        "colab": {
          "base_uri": "https://localhost:8080/"
        },
        "id": "1i3XHX3voHAA",
        "outputId": "e1c912e1-d551-458c-8b71-a0d3e12c82e7"
      },
      "execution_count": 7,
      "outputs": [
        {
          "output_type": "stream",
          "name": "stdout",
          "text": [
            "/bin/bash: line 1: nano: command not found\n"
          ]
        }
      ]
    },
    {
      "cell_type": "code",
      "source": [
        "!cat word_count.txt|python mapper.py"
      ],
      "metadata": {
        "colab": {
          "base_uri": "https://localhost:8080/"
        },
        "id": "Dien_bUwpPu5",
        "outputId": "19014938-3ac1-4058-e807-75a49c5d1a45"
      },
      "execution_count": 9,
      "outputs": [
        {
          "output_type": "stream",
          "name": "stdout",
          "text": [
            "Shivam\t1\n",
            "Shivam\t1\n",
            "R\t1\n",
            "R\t1\n",
            "Vadalia\t1\n",
            "des\t1\n"
          ]
        }
      ]
    },
    {
      "cell_type": "code",
      "source": [
        "!cat word_count.txt|python mapper.py|python reducer_wc.py\n"
      ],
      "metadata": {
        "colab": {
          "base_uri": "https://localhost:8080/"
        },
        "id": "ZDmg4QV1qNlI",
        "outputId": "b8982d17-00c0-46d4-ed69-3743c39a3568"
      },
      "execution_count": 18,
      "outputs": [
        {
          "output_type": "stream",
          "name": "stdout",
          "text": [
            "Shivam\t2\n",
            "R\t2\n",
            "Vadalia\t1\n",
            "des\t1\n"
          ]
        }
      ]
    },
    {
      "cell_type": "code",
      "source": [],
      "metadata": {
        "id": "lJ_VJIG1qglO"
      },
      "execution_count": null,
      "outputs": []
    }
  ]
}